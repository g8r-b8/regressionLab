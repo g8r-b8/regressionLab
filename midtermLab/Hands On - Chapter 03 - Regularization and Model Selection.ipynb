{
 "cells": [
  {
   "cell_type": "markdown",
   "metadata": {},
   "source": [
    "# Hands On - Chapter 03 - Regularization and Model Selection"
   ]
  },
  {
   "cell_type": "markdown",
   "metadata": {},
   "source": [
    "## Polynomial Regression\n",
    "\n",
    "you can use a linear model to fit nonlinear data: \n",
    "* A simple way to do this is to add powers of each feature as new features, then train a linear model on this extended set of features. \n",
    "\n",
    "This technique is called *Polynomial Regression*."
   ]
  },
  {
   "cell_type": "markdown",
   "metadata": {},
   "source": [
    "Let us generate some nonlinear data, based on a simple quadratic equation (such as in $y = ax^2 + bx + c$ form) with some noise as follows:"
   ]
  },
  {
   "cell_type": "code",
   "execution_count": 15,
   "metadata": {},
   "outputs": [],
   "source": [
    "import numpy as np\n",
    "np.random.seed(42)"
   ]
  },
  {
   "cell_type": "code",
   "execution_count": 16,
   "metadata": {},
   "outputs": [
    {
     "data": {
      "text/plain": [
       "array([[-0.75275929],\n",
       "       [ 2.70428584],\n",
       "       [ 1.39196365],\n",
       "       [ 0.59195091],\n",
       "       [-2.06388816],\n",
       "       [-2.06403288],\n",
       "       [-2.65149833],\n",
       "       [ 2.19705687],\n",
       "       [ 0.60669007],\n",
       "       [ 1.24843547],\n",
       "       [-2.87649303],\n",
       "       [ 2.81945911],\n",
       "       [ 1.99465584],\n",
       "       [-1.72596534],\n",
       "       [-1.9090502 ],\n",
       "       [-1.89957294],\n",
       "       [-1.17454654],\n",
       "       [ 0.14853859],\n",
       "       [-0.40832989],\n",
       "       [-1.25262516],\n",
       "       [ 0.67111737],\n",
       "       [-2.16303684],\n",
       "       [-1.24713211],\n",
       "       [-0.80182894],\n",
       "       [-0.26358009],\n",
       "       [ 1.71105577],\n",
       "       [-1.80195731],\n",
       "       [ 0.08540663],\n",
       "       [ 0.55448741],\n",
       "       [-2.72129752],\n",
       "       [ 0.64526911],\n",
       "       [-1.97685526],\n",
       "       [-2.60969044],\n",
       "       [ 2.69331322],\n",
       "       [ 2.7937922 ],\n",
       "       [ 1.85038409],\n",
       "       [-1.17231738],\n",
       "       [-2.41396732],\n",
       "       [ 1.10539816],\n",
       "       [-0.35908504],\n",
       "       [-2.26777059],\n",
       "       [-0.02893854],\n",
       "       [-2.79366887],\n",
       "       [ 2.45592241],\n",
       "       [-1.44732011],\n",
       "       [ 0.97513371],\n",
       "       [-1.12973354],\n",
       "       [ 0.12040813],\n",
       "       [ 0.28026168],\n",
       "       [-1.89087327],\n",
       "       [ 2.81750777],\n",
       "       [ 1.65079694],\n",
       "       [ 2.63699365],\n",
       "       [ 2.3689641 ],\n",
       "       [ 0.58739987],\n",
       "       [ 2.53124541],\n",
       "       [-2.46904499],\n",
       "       [-1.82410283],\n",
       "       [-2.72863627],\n",
       "       [-1.04801802],\n",
       "       [-0.66793626],\n",
       "       [-1.37190581],\n",
       "       [ 1.97242505],\n",
       "       [-0.85948004],\n",
       "       [-1.31439294],\n",
       "       [ 0.2561765 ],\n",
       "       [-2.15445465],\n",
       "       [ 1.81318188],\n",
       "       [-2.55269614],\n",
       "       [ 2.92132162],\n",
       "       [ 1.63346862],\n",
       "       [-1.80770591],\n",
       "       [-2.9668673 ],\n",
       "       [ 1.89276857],\n",
       "       [ 1.24114406],\n",
       "       [ 1.37404301],\n",
       "       [ 1.62762208],\n",
       "       [-2.55573209],\n",
       "       [-0.84920563],\n",
       "       [-2.30478564],\n",
       "       [ 2.17862056],\n",
       "       [ 0.73978876],\n",
       "       [-1.01461185],\n",
       "       [-2.6186499 ],\n",
       "       [-1.13410607],\n",
       "       [-1.04890007],\n",
       "       [ 1.37763707],\n",
       "       [ 0.82534483],\n",
       "       [ 2.32327646],\n",
       "       [-0.16671045],\n",
       "       [-2.28243452],\n",
       "       [ 1.27946872],\n",
       "       [ 1.56471029],\n",
       "       [ 0.36766319],\n",
       "       [ 1.62580308],\n",
       "       [-0.03722642],\n",
       "       [ 0.13639698],\n",
       "       [-0.43475389],\n",
       "       [-2.84748524],\n",
       "       [-2.35265144]])"
      ]
     },
     "execution_count": 16,
     "metadata": {},
     "output_type": "execute_result"
    }
   ],
   "source": [
    "N = 100\n",
    "X = 6 * np.random.rand(N, 1) - 3 # Range of X: from -3 to +3.\n",
    "X"
   ]
  },
  {
   "cell_type": "code",
   "execution_count": 17,
   "metadata": {},
   "outputs": [],
   "source": [
    "y = 0.5 * X**2 + X + 2 + np.random.randn(N, 1)"
   ]
  },
  {
   "cell_type": "code",
   "execution_count": 18,
   "metadata": {},
   "outputs": [
    {
     "data": {
      "image/png": "[encoded data removed]",
      "text/plain": [
       "<Figure size 432x288 with 1 Axes>"
      ]
     },
     "metadata": {
      "needs_background": "light"
     },
     "output_type": "display_data"
    }
   ],
   "source": [
    "# To plot pretty figures\n",
    "%matplotlib inline\n",
    "import matplotlib.pyplot as plt\n",
    "\n",
    "plt.plot(X, y, \"b.\")\n",
    "plt.xlabel(\"$x_1$\", fontsize=18)\n",
    "plt.ylabel(\"$y$\", rotation=90, fontsize=18)\n",
    "plt.axis([-3, 3, 0, 10])\n",
    "plt.show()"
   ]
  },
  {
   "cell_type": "markdown",
   "metadata": {},
   "source": [
    "**Figure 1**: Generated nonlinear and noisy dataset."
   ]
  },
  {
   "cell_type": "markdown",
   "metadata": {},
   "source": [
    "Clearly, a straight line will never fit the above data properly. \n",
    "* So let us use Scikit-Learn’s `PolynomialFeatures` class to transform our training data, adding the square (seconddegree polynomial) of each feature in the training set as a new feature (in this case there is just one feature):"
   ]
  },
  {
   "cell_type": "code",
   "execution_count": 19,
   "metadata": {},
   "outputs": [],
   "source": [
    "from sklearn.preprocessing import PolynomialFeatures\n",
    "                                           # include_bias = True will insert X0=1\n",
    "poly_features = PolynomialFeatures(degree=2, include_bias = False) "
   ]
  },
  {
   "cell_type": "code",
   "execution_count": 20,
   "metadata": {},
   "outputs": [],
   "source": [
    "X_poly = poly_features.fit_transform(X)"
   ]
  },
  {
   "cell_type": "code",
   "execution_count": 21,
   "metadata": {},
   "outputs": [
    {
     "data": {
      "text/plain": [
       "array([[-7.52759287e-01,  5.66646544e-01],\n",
       "       [ 2.70428584e+00,  7.31316190e+00],\n",
       "       [ 1.39196365e+00,  1.93756281e+00],\n",
       "       [ 5.91950905e-01,  3.50405874e-01],\n",
       "       [-2.06388816e+00,  4.25963433e+00],\n",
       "       [-2.06403288e+00,  4.26023172e+00],\n",
       "       [-2.65149833e+00,  7.03044338e+00],\n",
       "       [ 2.19705687e+00,  4.82705891e+00],\n",
       "       [ 6.06690070e-01,  3.68072842e-01],\n",
       "       [ 1.24843547e+00,  1.55859111e+00],\n",
       "       [-2.87649303e+00,  8.27421218e+00],\n",
       "       [ 2.81945911e+00,  7.94934969e+00],\n",
       "       [ 1.99465584e+00,  3.97865194e+00],\n",
       "       [-1.72596534e+00,  2.97895634e+00],\n",
       "       [-1.90905020e+00,  3.64447265e+00],\n",
       "       [-1.89957294e+00,  3.60837736e+00],\n",
       "       [-1.17454654e+00,  1.37955958e+00],\n",
       "       [ 1.48538590e-01,  2.20637127e-02],\n",
       "       [-4.08329888e-01,  1.66733298e-01],\n",
       "       [-1.25262516e+00,  1.56906979e+00],\n",
       "       [ 6.71117368e-01,  4.50398522e-01],\n",
       "       [-2.16303684e+00,  4.67872835e+00],\n",
       "       [-1.24713211e+00,  1.55533850e+00],\n",
       "       [-8.01828940e-01,  6.42929649e-01],\n",
       "       [-2.63580095e-01,  6.94744663e-02],\n",
       "       [ 1.71105577e+00,  2.92771184e+00],\n",
       "       [-1.80195731e+00,  3.24705014e+00],\n",
       "       [ 8.54066305e-02,  7.29429253e-03],\n",
       "       [ 5.54487413e-01,  3.07456291e-01],\n",
       "       [-2.72129752e+00,  7.40546021e+00],\n",
       "       [ 6.45269111e-01,  4.16372226e-01],\n",
       "       [-1.97685526e+00,  3.90795671e+00],\n",
       "       [-2.60969044e+00,  6.81048420e+00],\n",
       "       [ 2.69331322e+00,  7.25393612e+00],\n",
       "       [ 2.79379220e+00,  7.80527485e+00],\n",
       "       [ 1.85038409e+00,  3.42392128e+00],\n",
       "       [-1.17231738e+00,  1.37432805e+00],\n",
       "       [-2.41396732e+00,  5.82723820e+00],\n",
       "       [ 1.10539816e+00,  1.22190509e+00],\n",
       "       [-3.59085038e-01,  1.28942064e-01],\n",
       "       [-2.26777059e+00,  5.14278345e+00],\n",
       "       [-2.89385393e-02,  8.37439059e-04],\n",
       "       [-2.79366887e+00,  7.80458577e+00],\n",
       "       [ 2.45592241e+00,  6.03155490e+00],\n",
       "       [-1.44732011e+00,  2.09473550e+00],\n",
       "       [ 9.75133706e-01,  9.50885745e-01],\n",
       "       [-1.12973354e+00,  1.27629788e+00],\n",
       "       [ 1.20408127e-01,  1.44981171e-02],\n",
       "       [ 2.80261676e-01,  7.85466071e-02],\n",
       "       [-1.89087327e+00,  3.57540171e+00],\n",
       "       [ 2.81750777e+00,  7.93835001e+00],\n",
       "       [ 1.65079694e+00,  2.72513054e+00],\n",
       "       [ 2.63699365e+00,  6.95373551e+00],\n",
       "       [ 2.36896410e+00,  5.61199092e+00],\n",
       "       [ 5.87399873e-01,  3.45038611e-01],\n",
       "       [ 2.53124541e+00,  6.40720333e+00],\n",
       "       [-2.46904499e+00,  6.09618315e+00],\n",
       "       [-1.82410283e+00,  3.32735112e+00],\n",
       "       [-2.72863627e+00,  7.44545588e+00],\n",
       "       [-1.04801802e+00,  1.09834176e+00],\n",
       "       [-6.67936262e-01,  4.46138850e-01],\n",
       "       [-1.37190581e+00,  1.88212555e+00],\n",
       "       [ 1.97242505e+00,  3.89046060e+00],\n",
       "       [-8.59480040e-01,  7.38705939e-01],\n",
       "       [-1.31439294e+00,  1.72762881e+00],\n",
       "       [ 2.56176499e-01,  6.56263986e-02],\n",
       "       [-2.15445465e+00,  4.64167484e+00],\n",
       "       [ 1.81318188e+00,  3.28762855e+00],\n",
       "       [-2.55269614e+00,  6.51625757e+00],\n",
       "       [ 2.92132162e+00,  8.53412001e+00],\n",
       "       [ 1.63346862e+00,  2.66821972e+00],\n",
       "       [-1.80770591e+00,  3.26780066e+00],\n",
       "       [-2.96686730e+00,  8.80230156e+00],\n",
       "       [ 1.89276857e+00,  3.58257286e+00],\n",
       "       [ 1.24114406e+00,  1.54043859e+00],\n",
       "       [ 1.37404301e+00,  1.88799419e+00],\n",
       "       [ 1.62762208e+00,  2.64915364e+00],\n",
       "       [-2.55573209e+00,  6.53176651e+00],\n",
       "       [-8.49205629e-01,  7.21150200e-01],\n",
       "       [-2.30478564e+00,  5.31203686e+00],\n",
       "       [ 2.17862056e+00,  4.74638752e+00],\n",
       "       [ 7.39788761e-01,  5.47287411e-01],\n",
       "       [-1.01461185e+00,  1.02943721e+00],\n",
       "       [-2.61864990e+00,  6.85732729e+00],\n",
       "       [-1.13410607e+00,  1.28619658e+00],\n",
       "       [-1.04890007e+00,  1.10019135e+00],\n",
       "       [ 1.37763707e+00,  1.89788390e+00],\n",
       "       [ 8.25344828e-01,  6.81194085e-01],\n",
       "       [ 2.32327646e+00,  5.39761349e+00],\n",
       "       [-1.66710449e-01,  2.77923738e-02],\n",
       "       [-2.28243452e+00,  5.20950736e+00],\n",
       "       [ 1.27946872e+00,  1.63704021e+00],\n",
       "       [ 1.56471029e+00,  2.44831830e+00],\n",
       "       [ 3.67663185e-01,  1.35176218e-01],\n",
       "       [ 1.62580308e+00,  2.64323565e+00],\n",
       "       [-3.72264218e-02,  1.38580648e-03],\n",
       "       [ 1.36396976e-01,  1.86041351e-02],\n",
       "       [-4.34753890e-01,  1.89010945e-01],\n",
       "       [-2.84748524e+00,  8.10817219e+00],\n",
       "       [-2.35265144e+00,  5.53496879e+00]])"
      ]
     },
     "execution_count": 21,
     "metadata": {},
     "output_type": "execute_result"
    }
   ],
   "source": [
    "X_poly"
   ]
  },
  {
   "cell_type": "code",
   "execution_count": 22,
   "metadata": {},
   "outputs": [
    {
     "data": {
      "text/plain": [
       "array([-0.75275929])"
      ]
     },
     "execution_count": 22,
     "metadata": {},
     "output_type": "execute_result"
    }
   ],
   "source": [
    "X[0]"
   ]
  },
  {
   "cell_type": "code",
   "execution_count": 23,
   "metadata": {},
   "outputs": [
    {
     "data": {
      "text/plain": [
       "array([-0.75275929,  0.56664654])"
      ]
     },
     "execution_count": 23,
     "metadata": {},
     "output_type": "execute_result"
    }
   ],
   "source": [
    "X_poly[0]"
   ]
  },
  {
   "cell_type": "markdown",
   "metadata": {},
   "source": [
    "* `X_poly` now contains the original feature of X plus the square of this feature. \n",
    "* Now, we can fit a `LinearRegression` model to this extended training data (Figure 2):"
   ]
  },
  {
   "cell_type": "code",
   "execution_count": 24,
   "metadata": {},
   "outputs": [
    {
     "data": {
      "text/plain": [
       "(array([1.78134581]), array([[0.93366893, 0.56456263]]))"
      ]
     },
     "execution_count": 24,
     "metadata": {},
     "output_type": "execute_result"
    }
   ],
   "source": [
    "from sklearn.linear_model import LinearRegression\n",
    "lin_reg = LinearRegression()\n",
    "lin_reg.fit(X_poly, y)\n",
    "lin_reg.intercept_, lin_reg.coef_"
   ]
  },
  {
   "cell_type": "markdown",
   "metadata": {},
   "source": [
    "The model estimates $\\hat{y} = 0.564x_1^2 + 0.933x_1 + 1.781$ when in fact the original function was $y = 0.5x_1^2 + 1.0x_1 + 2.0 + $ Gaussian noise."
   ]
  },
  {
   "cell_type": "code",
   "execution_count": 25,
   "metadata": {},
   "outputs": [
    {
     "data": {
      "text/plain": [
       "array([[-3.00000000e+00,  9.00000000e+00],\n",
       "       [-2.93939394e+00,  8.64003673e+00],\n",
       "       [-2.87878788e+00,  8.28741965e+00],\n",
       "       [-2.81818182e+00,  7.94214876e+00],\n",
       "       [-2.75757576e+00,  7.60422406e+00],\n",
       "       [-2.69696970e+00,  7.27364555e+00],\n",
       "       [-2.63636364e+00,  6.95041322e+00],\n",
       "       [-2.57575758e+00,  6.63452709e+00],\n",
       "       [-2.51515152e+00,  6.32598714e+00],\n",
       "       [-2.45454545e+00,  6.02479339e+00],\n",
       "       [-2.39393939e+00,  5.73094582e+00],\n",
       "       [-2.33333333e+00,  5.44444444e+00],\n",
       "       [-2.27272727e+00,  5.16528926e+00],\n",
       "       [-2.21212121e+00,  4.89348026e+00],\n",
       "       [-2.15151515e+00,  4.62901745e+00],\n",
       "       [-2.09090909e+00,  4.37190083e+00],\n",
       "       [-2.03030303e+00,  4.12213039e+00],\n",
       "       [-1.96969697e+00,  3.87970615e+00],\n",
       "       [-1.90909091e+00,  3.64462810e+00],\n",
       "       [-1.84848485e+00,  3.41689624e+00],\n",
       "       [-1.78787879e+00,  3.19651056e+00],\n",
       "       [-1.72727273e+00,  2.98347107e+00],\n",
       "       [-1.66666667e+00,  2.77777778e+00],\n",
       "       [-1.60606061e+00,  2.57943067e+00],\n",
       "       [-1.54545455e+00,  2.38842975e+00],\n",
       "       [-1.48484848e+00,  2.20477502e+00],\n",
       "       [-1.42424242e+00,  2.02846648e+00],\n",
       "       [-1.36363636e+00,  1.85950413e+00],\n",
       "       [-1.30303030e+00,  1.69788797e+00],\n",
       "       [-1.24242424e+00,  1.54361800e+00],\n",
       "       [-1.18181818e+00,  1.39669421e+00],\n",
       "       [-1.12121212e+00,  1.25711662e+00],\n",
       "       [-1.06060606e+00,  1.12488522e+00],\n",
       "       [-1.00000000e+00,  1.00000000e+00],\n",
       "       [-9.39393939e-01,  8.82460973e-01],\n",
       "       [-8.78787879e-01,  7.72268136e-01],\n",
       "       [-8.18181818e-01,  6.69421488e-01],\n",
       "       [-7.57575758e-01,  5.73921028e-01],\n",
       "       [-6.96969697e-01,  4.85766758e-01],\n",
       "       [-6.36363636e-01,  4.04958678e-01],\n",
       "       [-5.75757576e-01,  3.31496786e-01],\n",
       "       [-5.15151515e-01,  2.65381084e-01],\n",
       "       [-4.54545455e-01,  2.06611570e-01],\n",
       "       [-3.93939394e-01,  1.55188246e-01],\n",
       "       [-3.33333333e-01,  1.11111111e-01],\n",
       "       [-2.72727273e-01,  7.43801653e-02],\n",
       "       [-2.12121212e-01,  4.49954086e-02],\n",
       "       [-1.51515152e-01,  2.29568411e-02],\n",
       "       [-9.09090909e-02,  8.26446281e-03],\n",
       "       [-3.03030303e-02,  9.18273646e-04],\n",
       "       [ 3.03030303e-02,  9.18273646e-04],\n",
       "       [ 9.09090909e-02,  8.26446281e-03],\n",
       "       [ 1.51515152e-01,  2.29568411e-02],\n",
       "       [ 2.12121212e-01,  4.49954086e-02],\n",
       "       [ 2.72727273e-01,  7.43801653e-02],\n",
       "       [ 3.33333333e-01,  1.11111111e-01],\n",
       "       [ 3.93939394e-01,  1.55188246e-01],\n",
       "       [ 4.54545455e-01,  2.06611570e-01],\n",
       "       [ 5.15151515e-01,  2.65381084e-01],\n",
       "       [ 5.75757576e-01,  3.31496786e-01],\n",
       "       [ 6.36363636e-01,  4.04958678e-01],\n",
       "       [ 6.96969697e-01,  4.85766758e-01],\n",
       "       [ 7.57575758e-01,  5.73921028e-01],\n",
       "       [ 8.18181818e-01,  6.69421488e-01],\n",
       "       [ 8.78787879e-01,  7.72268136e-01],\n",
       "       [ 9.39393939e-01,  8.82460973e-01],\n",
       "       [ 1.00000000e+00,  1.00000000e+00],\n",
       "       [ 1.06060606e+00,  1.12488522e+00],\n",
       "       [ 1.12121212e+00,  1.25711662e+00],\n",
       "       [ 1.18181818e+00,  1.39669421e+00],\n",
       "       [ 1.24242424e+00,  1.54361800e+00],\n",
       "       [ 1.30303030e+00,  1.69788797e+00],\n",
       "       [ 1.36363636e+00,  1.85950413e+00],\n",
       "       [ 1.42424242e+00,  2.02846648e+00],\n",
       "       [ 1.48484848e+00,  2.20477502e+00],\n",
       "       [ 1.54545455e+00,  2.38842975e+00],\n",
       "       [ 1.60606061e+00,  2.57943067e+00],\n",
       "       [ 1.66666667e+00,  2.77777778e+00],\n",
       "       [ 1.72727273e+00,  2.98347107e+00],\n",
       "       [ 1.78787879e+00,  3.19651056e+00],\n",
       "       [ 1.84848485e+00,  3.41689624e+00],\n",
       "       [ 1.90909091e+00,  3.64462810e+00],\n",
       "       [ 1.96969697e+00,  3.87970615e+00],\n",
       "       [ 2.03030303e+00,  4.12213039e+00],\n",
       "       [ 2.09090909e+00,  4.37190083e+00],\n",
       "       [ 2.15151515e+00,  4.62901745e+00],\n",
       "       [ 2.21212121e+00,  4.89348026e+00],\n",
       "       [ 2.27272727e+00,  5.16528926e+00],\n",
       "       [ 2.33333333e+00,  5.44444444e+00],\n",
       "       [ 2.39393939e+00,  5.73094582e+00],\n",
       "       [ 2.45454545e+00,  6.02479339e+00],\n",
       "       [ 2.51515152e+00,  6.32598714e+00],\n",
       "       [ 2.57575758e+00,  6.63452709e+00],\n",
       "       [ 2.63636364e+00,  6.95041322e+00],\n",
       "       [ 2.69696970e+00,  7.27364555e+00],\n",
       "       [ 2.75757576e+00,  7.60422406e+00],\n",
       "       [ 2.81818182e+00,  7.94214876e+00],\n",
       "       [ 2.87878788e+00,  8.28741965e+00],\n",
       "       [ 2.93939394e+00,  8.64003673e+00],\n",
       "       [ 3.00000000e+00,  9.00000000e+00]])"
      ]
     },
     "execution_count": 25,
     "metadata": {},
     "output_type": "execute_result"
    }
   ],
   "source": [
    "X_new=np.linspace(-3, 3, 100).reshape(100, 1)\n",
    "X_new_poly = poly_features.transform(X_new)\n",
    "X_new_poly"
   ]
  },
  {
   "cell_type": "code",
   "execution_count": 26,
   "metadata": {},
   "outputs": [
    {
     "data": {
      "image/png": "[encoded data removed]",
      "text/plain": [
       "<Figure size 432x288 with 1 Axes>"
      ]
     },
     "metadata": {
      "needs_background": "light"
     },
     "output_type": "display_data"
    }
   ],
   "source": [
    "y_new = lin_reg.predict(X_new_poly)\n",
    "plt.plot(X, y, \"b.\")\n",
    "plt.plot(X_new, y_new, \"r-\", linewidth=2, label=\"Predictions\")\n",
    "plt.xlabel(\"$x_1$\", fontsize=18)\n",
    "plt.ylabel(\"$y$\", rotation=90, fontsize=18)\n",
    "plt.legend(loc=\"upper left\", fontsize=14)\n",
    "plt.axis([-3, 3, 0, 10])\n",
    "plt.show()"
   ]
  },
  {
   "cell_type": "markdown",
   "metadata": {},
   "source": [
    "**Figure 2**: Polynomial Regression model predictions."
   ]
  },
  {
   "cell_type": "markdown",
   "metadata": {},
   "source": [
    "* Note that when there are multiple features, Polynomial Regression is capable of finding relationships between features (which is something a plain Linear Regression model cannot do). \n",
    "\n",
    "* This is made possible by the fact that `PolynomialFeatures` also adds all combinations of features up to the given degree. \n",
    "\n",
    "* For example, if there were two features a and b, `PolynomialFeatures` with `degree=3` would not only add the features $a^2, a^3, b^2$, and $b^3$, but also the combinations $ab, a^2b$, and $ab^2$.\n",
    "\n",
    "\n",
    "* `PolynomialFeatures(degree=d)` transforms an array containing $n$ features into an array containing $(n + d)! / d!n!$ features (including the original feature(s) and the bias term), where $n!$ is the factorial of $n$, equal to $1 × 2 × 3 × ... × n $. **Beware of the combinatorial explosion of the number of features!**"
   ]
  },
  {
   "cell_type": "markdown",
   "metadata": {},
   "source": [
    "If we perform high-degree Polynomial Regression, we will likely fit the training data much better than with plain Linear Regression. \n",
    "\n",
    "* For example, Figure 3 applies a 300-degree polynomial model to the preceding training data, and compares the result with a pure linear model and a quadratic model (second-degree polynomial). \n",
    "\n",
    "* Notice how the 300-degree polynomial model wiggles around to get as close as possible to the training instances."
   ]
  },
  {
   "cell_type": "code",
   "execution_count": 27,
   "metadata": {},
   "outputs": [
    {
     "data": {
      "image/png": "[encoded data removed]",
      "text/plain": [
       "<Figure size 432x288 with 1 Axes>"
      ]
     },
     "metadata": {
      "needs_background": "light"
     },
     "output_type": "display_data"
    }
   ],
   "source": [
    "from sklearn.preprocessing import StandardScaler\n",
    "from sklearn.pipeline import Pipeline\n",
    "\n",
    "for style, width, degree in ((\"g-\", 1, 300), (\"b--\", 2, 2), (\"r-+\", 2, 1)):\n",
    "    polybig_features = PolynomialFeatures(degree=degree, include_bias=False) \n",
    "    std_scaler = StandardScaler()\n",
    "    lin_reg = LinearRegression()    \n",
    "    polynomial_regression = Pipeline([\n",
    "            (\"poly_features\", polybig_features),\n",
    "            (\"std_scaler\", std_scaler),\n",
    "            (\"lin_reg\", lin_reg),\n",
    "        ])\n",
    "    polynomial_regression.fit(X, y)\n",
    "    y_newbig = polynomial_regression.predict(X_new)\n",
    "    plt.plot(X_new, y_newbig, style, label=str(degree), linewidth=width)\n",
    "\n",
    "plt.plot(X, y, \"b.\", linewidth=3)\n",
    "plt.legend(loc=\"upper left\")\n",
    "plt.xlabel(\"$x_1$\", fontsize=18)\n",
    "plt.ylabel(\"$y$\", rotation=0, fontsize=18)\n",
    "plt.axis([-3, 3, 0, 10])\n",
    "plt.show()"
   ]
  },
  {
   "cell_type": "markdown",
   "metadata": {},
   "source": [
    "**Figure 3**: High-degree Polynomial Regression."
   ]
  },
  {
   "cell_type": "markdown",
   "metadata": {},
   "source": [
    "* The high-degree Polynomial Regression model is severely overfitting (see **Figure 3**) the training data, while the linear model is underfitting it. \n",
    "* The model that will generalize best in this case is the quadratic model, which makes sense because the data was generated using a quadratic model. \n",
    "\n",
    "However, in general you won’t know what function generated the data. Thus, we used cross-validation to get an estimate of a model’s generalization performance.\n",
    " - If a model performs well on the training data but generalizes poorly according to the cross-validation metrics, then the model is overfitting. \n",
    " - If it performs poorly on both, then it is underfitting. \n",
    "\n",
    "This is one way to tell when a model is too simple or too complex. \n",
    "\n",
    "\n",
    "Another way to tell is to look at the learning curves:\n",
    "- these are plots of the model’s performance on the training set and the validation set as a function of the training set size (or the training iteration). \n",
    "- To generate the plots, train the model several times on different sized subsets of the training set."
   ]
  },
  {
   "cell_type": "markdown",
   "metadata": {},
   "source": [
    "The following code defines a function that, given some training data, plots the learning curves of a model:"
   ]
  },
  {
   "cell_type": "code",
   "execution_count": 28,
   "metadata": {},
   "outputs": [],
   "source": [
    "from sklearn.metrics import mean_squared_error\n",
    "from sklearn.model_selection import train_test_split\n",
    "\n",
    "def plot_learning_curves(model, X, y):\n",
    "    X_train, X_val, y_train, y_val = train_test_split(X, y, test_size=0.2, random_state=10)\n",
    "    train_errors, val_errors = [], []\n",
    "    for N in range(1, len(X_train)):   # use 1 datam, then 2 data, 3 data, ..., All data\n",
    "        model.fit(X_train[:N], y_train[:N])\n",
    "        y_train_predict = model.predict(X_train[:N])\n",
    "        y_val_predict = model.predict(X_val)\n",
    "        train_errors.append(mean_squared_error(y_train[:N], y_train_predict))\n",
    "        val_errors.append(mean_squared_error(y_val, y_val_predict))\n",
    "\n",
    "    plt.plot(np.sqrt(train_errors), \"r-+\", linewidth=2, label=\"train\")\n",
    "    plt.plot(np.sqrt(val_errors), \"b-\", linewidth=3, label=\"val\")\n",
    "    plt.legend(loc=\"upper right\", fontsize=14)   \n",
    "    plt.xlabel(\"Training set size\", fontsize=14) \n",
    "    plt.ylabel(\"RMSE\", fontsize=14)              "
   ]
  },
  {
   "cell_type": "markdown",
   "metadata": {},
   "source": [
    "Let us look at the learning curves of the plain Linear Regression model (a straight line;\n",
    "see **Figure 4**):"
   ]
  },
  {
   "cell_type": "code",
   "execution_count": 29,
   "metadata": {},
   "outputs": [
    {
     "data": {
      "image/png": "[encoded data removed]",
      "text/plain": [
       "<Figure size 432x288 with 1 Axes>"
      ]
     },
     "metadata": {
      "needs_background": "light"
     },
     "output_type": "display_data"
    }
   ],
   "source": [
    "lin_reg = LinearRegression()\n",
    "plot_learning_curves(lin_reg, X, y)\n",
    "plt.axis([0, 80, 0, 3])\n",
    "plt.show()                                      "
   ]
  },
  {
   "cell_type": "markdown",
   "metadata": {},
   "source": [
    "**Figure 4**: Learning curves."
   ]
  },
  {
   "cell_type": "markdown",
   "metadata": {},
   "source": [
    "This model (in **Figure 4**) is underfitting: \n",
    "- Look at the performance on the training data: when there are just one or two instances in the training set, the model can fit them perfectly, which is why the curve starts at zero. \n",
    "- But as new instances are added to the training set, it becomes impossible for the model to fit the training data perfectly, both because the data is noisy and because it is not linear at all. \n",
    "- So the error on the training data goes up until it reaches a plateau, at which point adding new instances to the training set doesn’t make the average error much better or worse. \n",
    "- Now let us look at the performance of the model on the validation data. When the model is trained on very few training instances, it is incapable of generalizing properly, which is why the validation error is initially quite big.\n",
    "- Then, as the model is shown more training examples, it learns, and thus the validation error slowly goes down. However, once again a straight line cannot do a good job modeling the data, so the error ends up at a plateau, very close to the other curve.\n",
    "- These learning curves are typical of a model that’s underfitting. Both curves have reached a plateau; they are close and fairly high."
   ]
  },
  {
   "cell_type": "markdown",
   "metadata": {},
   "source": [
    "**If your model is underfitting the training data, adding more training examples will not help. You need to use a more complex model or come up with better features.**"
   ]
  },
  {
   "cell_type": "markdown",
   "metadata": {},
   "source": [
    "Now, let us look at the learning curves of a 10th-degree polynomial model on the same data (**Figure 5**):"
   ]
  },
  {
   "cell_type": "code",
   "execution_count": 30,
   "metadata": {},
   "outputs": [
    {
     "data": {
      "image/png": "[encoded data removed]",
      "text/plain": [
       "<Figure size 432x288 with 1 Axes>"
      ]
     },
     "metadata": {
      "needs_background": "light"
     },
     "output_type": "display_data"
    }
   ],
   "source": [
    "from sklearn.pipeline import Pipeline\n",
    "\n",
    "polynomial_regression = Pipeline([\n",
    "        (\"poly_features\", PolynomialFeatures(degree=10, include_bias=False)),\n",
    "        (\"lin_reg\", LinearRegression()),\n",
    "    ])\n",
    "\n",
    "plot_learning_curves(polynomial_regression, X, y)\n",
    "plt.axis([0, 80, 0, 3])           \n",
    "plt.show()                        "
   ]
  },
  {
   "cell_type": "markdown",
   "metadata": {},
   "source": [
    "**Figure 5**: Learning curves for the 10th-degree polynomial model."
   ]
  },
  {
   "cell_type": "markdown",
   "metadata": {},
   "source": [
    "These learning curves look a bit like the previous ones, but there are two very important\n",
    "differences:\n",
    "\n",
    "- The error on the training data is much lower than with the Linear Regression model.\n",
    "- There is a gap between the curves. \n",
    "   - This means that the model performs significantly better on the training data than on the validation data, which is the hallmark of an overfitting model. \n",
    "- If we used a much larger training set, however, the two curves would continue to get closer."
   ]
  },
  {
   "cell_type": "markdown",
   "metadata": {},
   "source": [
    "**One way to improve an overfitting model is to feed it more training data until the validation error reaches the training error**."
   ]
  },
  {
   "cell_type": "markdown",
   "metadata": {},
   "source": [
    "## Regularized Models"
   ]
  },
  {
   "cell_type": "markdown",
   "metadata": {},
   "source": [
    "A good way to reduce overfitting is to regularize the model (i.e., to constrain it): \n",
    "- the fewer degrees of freedom it has, the harder it will be for it to overfit the data. \n",
    "- A simple way to regularize a polynomial model is to reduce the number of polynomial degrees. \n",
    "- Regularization is typically achieved by constraining the weights of the model."
   ]
  },
  {
   "cell_type": "markdown",
   "metadata": {},
   "source": [
    " We will now look at \n",
    " - Ridge Regression, \n",
    " - Lasso Regression, and \n",
    " - Elastic Net, \n",
    "\n",
    "which implement three different ways to constrain the weights:"
   ]
  },
  {
   "cell_type": "code",
   "execution_count": 31,
   "metadata": {},
   "outputs": [],
   "source": [
    "np.random.seed(42)\n",
    "N = 20\n",
    "X = 3 * np.random.rand(N, 1)\n",
    "y = 1 + 0.5 * X + np.random.randn(N, 1) / 1.5\n",
    "X_new = np.linspace(0, 3, 100).reshape(100, 1)"
   ]
  },
  {
   "cell_type": "markdown",
   "metadata": {},
   "source": [
    "### Ridge Regression\n",
    "* Ridge Regression (also called Tikhonov regularization) forces the learning algorithm to not only fit the data but also keep the model weights as small as possible. \n",
    "* Note that the regularization term should only be added to the cost function during training.\n",
    "* Once the model is trained, you want to use the unregularized performance measure to evaluate the model’s performance."
   ]
  },
  {
   "cell_type": "markdown",
   "metadata": {},
   "source": [
    "**Note**: It is quite common for the cost function used during training to be\n",
    "different from the performance measure used for testing. For example, classifiers are often trained using a cost function such as the log loss but evaluated using precision/recall."
   ]
  },
  {
   "cell_type": "markdown",
   "metadata": {},
   "source": [
    "It is important to scale the data (e.g., using a `StandardScaler`) before performing Ridge Regression, as it is sensitive to the scale of the input features. This is true of most regularized models."
   ]
  },
  {
   "cell_type": "markdown",
   "metadata": {},
   "source": [
    "**Figure 6** shows several Ridge models trained on some linear data using different $\\lambda$\n",
    "values: \n",
    "* On the left, plain Ridge models are used, leading to linear predictions.\n",
    "* On the right, the data is first expanded using `PolynomialFeatures(degree=10)`, then it is scaled using a `StandardScaler`, and finally the Ridge models are applied to the resulting features: this is Polynomial Regression with Ridge regularization. \n",
    "* Note how increasing $\\lambda$ leads to flatter (i.e., less extreme, more reasonable) predictions, thus reducing the model’s variance but increasing its bias."
   ]
  },
  {
   "cell_type": "code",
   "execution_count": 32,
   "metadata": {},
   "outputs": [
    {
     "data": {
      "image/png": "[encoded data removed]",
      "text/plain": [
       "<Figure size 576x288 with 2 Axes>"
      ]
     },
     "metadata": {
      "needs_background": "light"
     },
     "output_type": "display_data"
    }
   ],
   "source": [
    "from sklearn.linear_model import Ridge\n",
    "\n",
    "def plot_model(model_class, polynomial, alphas, **model_kargs):\n",
    "    for alpha, style in zip(alphas, (\"b-\", \"g--\", \"r:\")):\n",
    "        model = model_class(alpha, **model_kargs) if alpha > 0 else LinearRegression()\n",
    "        if polynomial:\n",
    "            model = Pipeline([\n",
    "                    (\"poly_features\", PolynomialFeatures(degree=10, include_bias=False)),\n",
    "                    (\"std_scaler\", StandardScaler()),\n",
    "                    (\"regul_reg\", model),\n",
    "                ])\n",
    "        model.fit(X, y)\n",
    "        y_new_regul = model.predict(X_new)\n",
    "        lw = 2 if alpha > 0 else 1\n",
    "        plt.plot(X_new, y_new_regul, style, linewidth=lw, label=r\"$\\lambda = {}$\".format(alpha))\n",
    "    plt.plot(X, y, \"b.\", linewidth=3)\n",
    "    plt.legend(loc=\"upper left\", fontsize=15)\n",
    "    plt.xlabel(\"$x_1$\", fontsize=18)\n",
    "    plt.axis([0, 3, 0, 4])\n",
    "\n",
    "plt.figure(figsize=(8,4))\n",
    "plt.subplot(121)\n",
    "plot_model(Ridge, polynomial=False, alphas=(0, 10, 100), random_state=42)\n",
    "plt.ylabel(\"$y$\", rotation=0, fontsize=18)\n",
    "plt.subplot(122)\n",
    "plot_model(Ridge, polynomial=True, alphas=(0, 10**-5, 1), random_state=42)\n",
    "plt.show()"
   ]
  },
  {
   "cell_type": "markdown",
   "metadata": {},
   "source": [
    "**Figure 6**: A linear model (left) and a polynomial model (right), both with various levels\n",
    "of Ridge regularization."
   ]
  },
  {
   "cell_type": "markdown",
   "metadata": {},
   "source": [
    "As with Linear Regression, we can perform Ridge Regression either by computing a closed-form equation or by performing Gradient Descent.\n",
    "\n",
    "Here is how to perform Ridge Regression with Scikit-Learn using a variant of closed-form (i.e., Normal Equation with regularization), that uses a matrix factorization technique by André Louis Cholesky solution:"
   ]
  },
  {
   "cell_type": "code",
   "execution_count": 33,
   "metadata": {},
   "outputs": [
    {
     "data": {
      "text/plain": [
       "array([[1.55071465]])"
      ]
     },
     "execution_count": 33,
     "metadata": {},
     "output_type": "execute_result"
    }
   ],
   "source": [
    "from sklearn.linear_model import Ridge\n",
    "                  # here parameter alpha is our lambda\n",
    "ridge_reg = Ridge(alpha=1, solver=\"cholesky\", random_state=42) \n",
    "ridge_reg.fit(X, y)\n",
    "ridge_reg.predict([[1.5]])"
   ]
  },
  {
   "cell_type": "markdown",
   "metadata": {},
   "source": [
    "We can use Stochastic Gradient Descent:"
   ]
  },
  {
   "cell_type": "code",
   "execution_count": 34,
   "metadata": {},
   "outputs": [
    {
     "data": {
      "text/plain": [
       "array([1.47012588])"
      ]
     },
     "execution_count": 34,
     "metadata": {},
     "output_type": "execute_result"
    }
   ],
   "source": [
    "from sklearn.linear_model import SGDRegressor\n",
    "                     # penalty = 'l2', 'l1', or 'elasticnet', ... & l2=> Ridge\n",
    "sgd_reg = SGDRegressor(penalty=\"l2\", max_iter=1000, tol=1e-3, random_state=42)\n",
    "sgd_reg.fit(X, y.ravel())\n",
    "sgd_reg.predict([[1.5]])"
   ]
  },
  {
   "cell_type": "markdown",
   "metadata": {},
   "source": [
    "Alternatively, we can use the Ridge class with the \"sag\" solver. Stochastic Average GD is a variant of Stochastic GD:"
   ]
  },
  {
   "cell_type": "code",
   "execution_count": 35,
   "metadata": {},
   "outputs": [
    {
     "data": {
      "text/plain": [
       "array([[1.5507201]])"
      ]
     },
     "execution_count": 35,
     "metadata": {},
     "output_type": "execute_result"
    }
   ],
   "source": [
    "ridge_reg = Ridge(alpha=1, solver=\"sag\", random_state=42)\n",
    "ridge_reg.fit(X, y)\n",
    "ridge_reg.predict([[1.5]])"
   ]
  },
  {
   "cell_type": "markdown",
   "metadata": {},
   "source": [
    "### Lasso Regression\n",
    "Least Absolute Shrinkage and Selection Operator Regression (usually simply called Lasso Regression) is another regularized version of Linear Regression: just like Ridge Regression, it adds a regularization term to the cost function, but it uses the $l_1$ norm of the weight vector."
   ]
  },
  {
   "cell_type": "markdown",
   "metadata": {},
   "source": [
    "**Figure 8** shows the same thing as **Figure 7** but replaces Ridge models with Lasso models and uses smaller $\\lambda$ values."
   ]
  },
  {
   "cell_type": "code",
   "execution_count": 36,
   "metadata": {},
   "outputs": [
    {
     "name": "stderr",
     "output_type": "stream",
     "text": [
      "/home/wingate/.local/lib/python3.6/site-packages/sklearn/linear_model/_coordinate_descent.py:476: ConvergenceWarning: Objective did not converge. You might want to increase the number of iterations. Duality gap: 2.802867703827423, tolerance: 0.0009294783355207351\n",
      "  positive)\n"
     ]
    },
    {
     "data": {
      "image/png": "[encoded data removed]",
      "text/plain": [
       "<Figure size 576x288 with 2 Axes>"
      ]
     },
     "metadata": {
      "needs_background": "light"
     },
     "output_type": "display_data"
    }
   ],
   "source": [
    "from sklearn.linear_model import Lasso\n",
    "\n",
    "plt.figure(figsize=(8,4))\n",
    "plt.subplot(121)\n",
    "plot_model(Lasso, polynomial=False, alphas=(0, 0.1, 1), random_state=42)\n",
    "plt.ylabel(\"$y$\", rotation=0, fontsize=18)\n",
    "plt.subplot(122)\n",
    "plot_model(Lasso, polynomial=True, alphas=(0, 10**-7, 1), random_state=42)\n",
    "plt.show()"
   ]
  },
  {
   "cell_type": "markdown",
   "metadata": {},
   "source": [
    "**Figure 8**: A linear model (left) and a polynomial model (right), both using various levels of Lasso regularization."
   ]
  },
  {
   "cell_type": "markdown",
   "metadata": {},
   "source": [
    "An important characteristic of Lasso Regression is that it tends to eliminate the weights of the least important features (i.e., set them to zero). \n",
    "\n",
    "* For example, the dashed line in the righthand plot in **Figure 8** (with $\\lambda = 10^{-7}$) looks quadratic, and all the weights for the high-degree polynomial features are equal to zero. \n",
    "\n",
    "* In other words, Lasso Regression automatically performs feature selection and outputs a sparse model (i.e., with few nonzero feature weights)."
   ]
  },
  {
   "cell_type": "markdown",
   "metadata": {},
   "source": [
    "Here is a small Scikit-Learn example using the `Lasso` class:"
   ]
  },
  {
   "cell_type": "code",
   "execution_count": 37,
   "metadata": {},
   "outputs": [
    {
     "data": {
      "text/plain": [
       "array([1.53788174])"
      ]
     },
     "execution_count": 37,
     "metadata": {},
     "output_type": "execute_result"
    }
   ],
   "source": [
    "from sklearn.linear_model import Lasso\n",
    "lasso_reg = Lasso(alpha=0.1)\n",
    "lasso_reg.fit(X, y)\n",
    "lasso_reg.predict([[1.5]])"
   ]
  },
  {
   "cell_type": "markdown",
   "metadata": {},
   "source": [
    "Note that we could instead use `SGDRegressor(penalty=\"l1\")`."
   ]
  },
  {
   "cell_type": "markdown",
   "metadata": {},
   "source": [
    "### Elastic Net\n",
    "Elastic Net is a middle ground between Ridge Regression and Lasso Regression. \n",
    "* The regularization term is a simple mix of both Ridge and Lasso’s regularization terms,\n",
    "and you can control the mix ratio r. \n",
    "* When r = 0, Elastic Net is equivalent to Ridge Regression, and \n",
    "* when r = 1, it is equivalent to Lasso Regression\n",
    "\n",
    "The cost function of Elastic Net can be expressed as: Cost($\\beta$)= MSE($\\beta$)+ $r$ x Ridge + $\\frac{(1-r)}{2} $ x Lasso. "
   ]
  },
  {
   "cell_type": "markdown",
   "metadata": {},
   "source": [
    "Here is a short example that uses Scikit-Learn’s `ElasticNet` (`l1_ratio` corresponds to the mix ratio $r$):"
   ]
  },
  {
   "cell_type": "code",
   "execution_count": 38,
   "metadata": {},
   "outputs": [
    {
     "data": {
      "text/plain": [
       "array([1.54333232])"
      ]
     },
     "execution_count": 38,
     "metadata": {},
     "output_type": "execute_result"
    }
   ],
   "source": [
    "from sklearn.linear_model import ElasticNet\n",
    "elastic_net = ElasticNet(alpha=0.1, l1_ratio=0.5, random_state=42)\n",
    "elastic_net.fit(X, y)\n",
    "elastic_net.predict([[1.5]])"
   ]
  },
  {
   "cell_type": "markdown",
   "metadata": {},
   "source": [
    "### Early stopping \n",
    "A very different way to regularize iterative learning algorithms such as Gradient Descent is to stop training as soon as the validation error reaches a minimum. This is called *early stopping*."
   ]
  },
  {
   "cell_type": "code",
   "execution_count": 39,
   "metadata": {},
   "outputs": [],
   "source": [
    "np.random.seed(42)\n",
    "N = 100\n",
    "X = 6 * np.random.rand(N, 1) - 3\n",
    "y = 2 + X + 0.5 * X**2 + np.random.randn(N, 1)\n",
    "\n",
    "X_train, X_val, y_train, y_val = train_test_split(X[:50], y[:50].ravel(), test_size=0.5, random_state=10)"
   ]
  },
  {
   "cell_type": "markdown",
   "metadata": {
    "scrolled": true
   },
   "source": [
    "Here is a basic implementation of early stopping:"
   ]
  },
  {
   "cell_type": "code",
   "execution_count": 40,
   "metadata": {
    "scrolled": true
   },
   "outputs": [],
   "source": [
    "from sklearn.base import clone\n",
    "\n",
    "poly_scaler = Pipeline([\n",
    "        (\"poly_features\", PolynomialFeatures(degree=90, include_bias=False)),\n",
    "        (\"std_scaler\", StandardScaler())\n",
    "    ])\n",
    "\n",
    "X_train_poly_scaled = poly_scaler.fit_transform(X_train)\n",
    "X_val_poly_scaled = poly_scaler.transform(X_val)\n",
    "\n",
    "sgd_reg = SGDRegressor(max_iter=1, tol=-np.infty, warm_start=True,\n",
    "                       penalty=None, learning_rate=\"constant\", eta0=0.0005, random_state=42)\n",
    "\n",
    "minimum_val_error = float(\"inf\")\n",
    "best_epoch = None\n",
    "best_model = None\n",
    "for epoch in range(1000):\n",
    "    sgd_reg.fit(X_train_poly_scaled, y_train)  # continues where it left off\n",
    "    y_val_predict = sgd_reg.predict(X_val_poly_scaled)\n",
    "    val_error = mean_squared_error(y_val, y_val_predict)\n",
    "    if val_error < minimum_val_error:\n",
    "        minimum_val_error = val_error\n",
    "        best_epoch = epoch\n",
    "        best_model = clone(sgd_reg)"
   ]
  },
  {
   "cell_type": "markdown",
   "metadata": {},
   "source": [
    "Create the graph:"
   ]
  },
  {
   "cell_type": "code",
   "execution_count": 41,
   "metadata": {},
   "outputs": [
    {
     "data": {
      "image/png": "[encoded data removed]",
      "text/plain": [
       "<Figure size 432x288 with 1 Axes>"
      ]
     },
     "metadata": {
      "needs_background": "light"
     },
     "output_type": "display_data"
    }
   ],
   "source": [
    "sgd_reg = SGDRegressor(max_iter=1, tol=-np.infty, warm_start=True,\n",
    "                       penalty=None, learning_rate=\"constant\", eta0=0.0005, random_state=42)\n",
    "\n",
    "n_epochs = 500\n",
    "train_errors, val_errors = [], []\n",
    "for epoch in range(n_epochs):\n",
    "    sgd_reg.fit(X_train_poly_scaled, y_train)\n",
    "    y_train_predict = sgd_reg.predict(X_train_poly_scaled)\n",
    "    y_val_predict = sgd_reg.predict(X_val_poly_scaled)\n",
    "    train_errors.append(mean_squared_error(y_train, y_train_predict))\n",
    "    val_errors.append(mean_squared_error(y_val, y_val_predict))\n",
    "\n",
    "best_epoch = np.argmin(val_errors)\n",
    "best_val_rmse = np.sqrt(val_errors[best_epoch])\n",
    "\n",
    "plt.annotate('Best model',\n",
    "             xy=(best_epoch, best_val_rmse),\n",
    "             xytext=(best_epoch, best_val_rmse + 1),\n",
    "             ha=\"center\",\n",
    "             arrowprops=dict(facecolor='black', shrink=0.05),\n",
    "             fontsize=16,\n",
    "            )\n",
    "\n",
    "best_val_rmse -= 0.03  # just to make the graph look better\n",
    "plt.plot([0, n_epochs], [best_val_rmse, best_val_rmse], \"k:\", linewidth=2)\n",
    "plt.plot(np.sqrt(val_errors), \"b-\", linewidth=3, label=\"Validation set\")\n",
    "plt.plot(np.sqrt(train_errors), \"r--\", linewidth=2, label=\"Training set\")\n",
    "plt.legend(loc=\"upper right\", fontsize=14)\n",
    "plt.xlabel(\"Epoch\", fontsize=14)\n",
    "plt.ylabel(\"RMSE\", fontsize=14)\n",
    "plt.show()"
   ]
  },
  {
   "cell_type": "markdown",
   "metadata": {},
   "source": [
    "**Figure 9**: Early stopping regularization."
   ]
  },
  {
   "cell_type": "markdown",
   "metadata": {},
   "source": [
    "**Figure 9** shows a complex model (in this case, a high-degree Polynomial Regression model) being trained with Batch Gradient Descent. \n",
    "\n",
    "* As the epochs go by the algorithm learns, and its prediction error (RMSE) on the training set goes down, along with its prediction error on the validation set. \n",
    "* After a while though, the validation error stops decreasing and starts to go back up. This indicates that the model has started to overfit the training data. \n",
    "* With early stopping you just stop training as soon as the validation error reaches the minimum. \n",
    "\n",
    "\n",
    "Early stopping is such a simple and efficient regularization technique that it was called a  “beautiful free lunch” by Geoffrey Hinton."
   ]
  },
  {
   "cell_type": "code",
   "execution_count": 42,
   "metadata": {},
   "outputs": [
    {
     "data": {
      "text/plain": [
       "(239,\n",
       " SGDRegressor(alpha=0.0001, average=False, early_stopping=False, epsilon=0.1,\n",
       "              eta0=0.0005, fit_intercept=True, l1_ratio=0.15,\n",
       "              learning_rate='constant', loss='squared_loss', max_iter=1,\n",
       "              n_iter_no_change=5, penalty=None, power_t=0.25, random_state=42,\n",
       "              shuffle=True, tol=-inf, validation_fraction=0.1, verbose=0,\n",
       "              warm_start=True))"
      ]
     },
     "execution_count": 42,
     "metadata": {},
     "output_type": "execute_result"
    }
   ],
   "source": [
    "best_epoch, best_model"
   ]
  },
  {
   "cell_type": "code",
   "execution_count": 43,
   "metadata": {},
   "outputs": [],
   "source": [
    "%matplotlib inline\n",
    "import matplotlib.pyplot as plt\n",
    "import numpy as np"
   ]
  },
  {
   "cell_type": "code",
   "execution_count": 44,
   "metadata": {},
   "outputs": [],
   "source": [
    "t1a, t1b, t2a, t2b = -1, 3, -1.5, 1.5\n",
    "\n",
    "t1s = np.linspace(t1a, t1b, 500)\n",
    "t2s = np.linspace(t2a, t2b, 500)\n",
    "t1, t2 = np.meshgrid(t1s, t2s)\n",
    "T = np.c_[t1.ravel(), t2.ravel()]\n",
    "Xr = np.array([[1, 1], [1, -1], [1, 0.5]])\n",
    "yr = 2 * Xr[:, :1] + 0.5 * Xr[:, 1:]\n",
    "\n",
    "J = (1/len(Xr) * np.sum((T.dot(Xr.T) - yr.T)**2, axis=1)).reshape(t1.shape)\n",
    "\n",
    "N1 = np.linalg.norm(T, ord=1, axis=1).reshape(t1.shape)\n",
    "N2 = np.linalg.norm(T, ord=2, axis=1).reshape(t1.shape)\n",
    "\n",
    "t_min_idx = np.unravel_index(np.argmin(J), J.shape)\n",
    "t1_min, t2_min = t1[t_min_idx], t2[t_min_idx]\n",
    "\n",
    "t_init = np.array([[0.25], [-1]])"
   ]
  },
  {
   "cell_type": "code",
   "execution_count": 45,
   "metadata": {},
   "outputs": [
    {
     "data": {
      "image/png": "[encoded data removed]",
      "text/plain": [
       "<Figure size 727.2x576 with 4 Axes>"
      ]
     },
     "metadata": {
      "needs_background": "light"
     },
     "output_type": "display_data"
    }
   ],
   "source": [
    "def bgd_path(beta, X, y, l1, l2, core = 1, eta = 0.05, n_iterations = 200):\n",
    "    path = [beta]\n",
    "    for iteration in range(n_iterations):\n",
    "        gradients = core * 2/len(X) * X.T.dot(X.dot(beta) - y) + l1 * np.sign(beta) + l2 * beta\n",
    "        beta = beta - eta * gradients\n",
    "        path.append(beta)\n",
    "    return np.array(path)\n",
    "\n",
    "fig, axes = plt.subplots(2, 2, sharex=True, sharey=True, figsize=(10.1, 8))\n",
    "for i, N, l1, l2, title in ((0, N1, 2., 0, \"Lasso\"), (1, N2, 0,  2., \"Ridge\")):\n",
    "    JR = J + l1 * N1 + l2 * 0.5 * N2**2\n",
    "    \n",
    "    tr_min_idx = np.unravel_index(np.argmin(JR), JR.shape)\n",
    "    t1r_min, t2r_min = t1[tr_min_idx], t2[tr_min_idx]\n",
    "\n",
    "    levelsJ=(np.exp(np.linspace(0, 1, 20)) - 1) * (np.max(J) - np.min(J)) + np.min(J)\n",
    "    levelsJR=(np.exp(np.linspace(0, 1, 20)) - 1) * (np.max(JR) - np.min(JR)) + np.min(JR)\n",
    "    levelsN=np.linspace(0, np.max(N), 10)\n",
    "    \n",
    "    path_J = bgd_path(t_init, Xr, yr, l1=0, l2=0)\n",
    "    path_JR = bgd_path(t_init, Xr, yr, l1, l2)\n",
    "    path_N = bgd_path(np.array([[2.0], [0.5]]), Xr, yr, np.sign(l1)/3, np.sign(l2), core=0)\n",
    "\n",
    "    ax = axes[i, 0]\n",
    "    ax.grid(True)\n",
    "    ax.axhline(y=0, color='k')\n",
    "    ax.axvline(x=0, color='k')\n",
    "    ax.contourf(t1, t2, N / 2., levels=levelsN)\n",
    "    ax.plot(path_N[:, 0], path_N[:, 1], \"y--\")\n",
    "    ax.plot(0, 0, \"ys\")\n",
    "    ax.plot(t1_min, t2_min, \"ys\")\n",
    "    ax.set_title(r\"$\\ell_{}$ penalty\".format(i + 1), fontsize=16)\n",
    "    ax.axis([t1a, t1b, t2a, t2b])\n",
    "    if i == 1:\n",
    "        ax.set_xlabel(r\"$\\beta_1$\", fontsize=16)\n",
    "    ax.set_ylabel(r\"$\\beta_2$\", fontsize=16, rotation=0)\n",
    "\n",
    "    ax = axes[i, 1]\n",
    "    ax.grid(True)\n",
    "    ax.axhline(y=0, color='k')\n",
    "    ax.axvline(x=0, color='k')\n",
    "    ax.contourf(t1, t2, JR, levels=levelsJR, alpha=0.9)\n",
    "    ax.plot(path_JR[:, 0], path_JR[:, 1], \"w-o\")\n",
    "    ax.plot(path_N[:, 0], path_N[:, 1], \"y--\")\n",
    "    ax.plot(0, 0, \"ys\")\n",
    "    ax.plot(t1_min, t2_min, \"ys\")\n",
    "    ax.plot(t1r_min, t2r_min, \"rs\")\n",
    "    ax.set_title(title, fontsize=16)\n",
    "    ax.axis([t1a, t1b, t2a, t2b])\n",
    "    if i == 1:\n",
    "        ax.set_xlabel(r\"$\\beta_1$\", fontsize=16)\n",
    "\n",
    "\n",
    "plt.show()"
   ]
  },
  {
   "cell_type": "markdown",
   "metadata": {},
   "source": [
    "**Figure 10**: Lasso versus Ridge regularization."
   ]
  },
  {
   "cell_type": "markdown",
   "metadata": {},
   "source": [
    "In Figure 10, the axes represent two model parameters, and the background contours represent different loss functions. \n",
    "\n",
    "**Lasso**: In the top-left plot, the contours represent the ℓ1 loss $(|\\beta_1| + |\\beta_2|)$, which drops linearly as you get closer to any axis: \n",
    "\n",
    "* For example, if you initialize the model parameters to $\\beta_1$ = 2 and $\\beta_2$ = 0.5, running Gradient Descent will decrement both parameters equally (as represented by the dashed yellow line); therefore $\\beta_2$ will reach 0 first (since it was closer to 0 to begin with). After that, Gradient Descent will roll down the gutter until it reaches $\\beta_1$ = 0 (with a bit of bouncing around, since the gradients of ℓ1 never get close to 0: they are either –1 or 1 for each parameter). \n",
    "\n",
    "* To avoid Gradient Descent from bouncing around the optimum at the end when using Lasso, you need to gradually reduce the learning rate during training (it will still bounce around the optimum,but the steps will get smaller and smaller, so it will converge).\n",
    "\n",
    "\n",
    "In the topright plot, the contours represent Lasso’s cost function (i.e., an MSE cost function plus an ℓ1 loss):\n",
    "\n",
    "* The small white circles show the path that Gradient Descent takes to optimize some model parameters that were initialized around $\\beta_1$ = 0.25 and $\\beta_2$ = –1: \n",
    "\n",
    "* notice once again how the path quickly reaches $\\beta_2$ = 0, then rolls down the gutter and ends up bouncing around the global optimum (represented by the red square). \n",
    "\n",
    "* If we increased $\\lambda$, the global optimum would move left along the dashed yellow line, while if we decreased $\\lambda$, the global optimum would move right (in this example, the optimal parameters for the unregularized MSE are $\\beta_1$ = 2 and $\\beta_2$ = 0.5).\n"
   ]
  },
  {
   "cell_type": "markdown",
   "metadata": {},
   "source": [
    "**Ridge Regression**: The two bottom plots show the same thing but with an ℓ2 penalty instead. \n",
    "* In the bottom-left plot, you can see that the ℓ2 loss decreases with the distance to the origin, so Gradient Descent just takes a straight path toward that point. \n",
    "\n",
    "* In the bottom-right plot, the contours represent Ridge Regression’s cost function (i.e., an MSE cost function plus an ℓ2 loss). \n",
    "\n",
    "* There are two main differences with Lasso. \n",
    "     * First, the gradients get smaller as the parameters approach the global optimum, so Gradient Descent naturally slows down, which helps convergence (as there is no bouncing around). \n",
    "     * Second, the optimal parameters (represented by the red square) get closer and closer to the origin when you increase $\\lambda$, but they never get eliminated entirely."
   ]
  },
  {
   "cell_type": "code",
   "execution_count": null,
   "metadata": {},
   "outputs": [],
   "source": []
  },
  {
   "cell_type": "code",
   "execution_count": null,
   "metadata": {},
   "outputs": [],
   "source": []
  },
  {
   "cell_type": "code",
   "execution_count": null,
   "metadata": {},
   "outputs": [],
   "source": []
  },
  {
   "cell_type": "code",
   "execution_count": null,
   "metadata": {},
   "outputs": [],
   "source": []
  }
 ],
 "metadata": {
  "kernelspec": {
   "display_name": "Python 3",
   "language": "python",
   "name": "python3"
  },
  "language_info": {
   "codemirror_mode": {
    "name": "ipython",
    "version": 3
   },
   "file_extension": ".py",
   "mimetype": "text/x-python",
   "name": "python",
   "nbconvert_exporter": "python",
   "pygments_lexer": "ipython3",
   "version": "3.6.9"
  },
  "nav_menu": {},
  "toc": {
   "navigate_menu": true,
   "number_sections": true,
   "sideBar": true,
   "threshold": 6,
   "toc_cell": false,
   "toc_section_display": "block",
   "toc_window_display": false
  }
 },
 "nbformat": 4,
 "nbformat_minor": 1
}
